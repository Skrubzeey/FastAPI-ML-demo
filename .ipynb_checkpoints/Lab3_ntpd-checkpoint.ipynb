{
 "cells": [
  {
   "cell_type": "markdown",
   "id": "5d6c89b2-1f34-4862-9f8e-f458f0461100",
   "metadata": {},
   "source": [
    "## Jędrzej Nogacki 120673, Nowoczesne Technologie Przetwarzania Danych\n",
    "\n",
    "\n",
    "### Temat: API do serwowania modelu ML, testowanie endpointów i zwracanie predykcji"
   ]
  },
  {
   "cell_type": "markdown",
   "id": "57031f01-558a-4f3a-bba3-2de77576af80",
   "metadata": {},
   "source": [
    "### Zadanie 1: Stworzenie podstawowej aplikacji API"
   ]
  },
  {
   "cell_type": "code",
   "execution_count": 14,
   "id": "1b7ad053-84c0-4ad9-92cd-a7da2ca456ef",
   "metadata": {},
   "outputs": [
    {
     "name": "stdout",
     "output_type": "stream",
     "text": [
      "Serwer FastAPI uruchomiony na http://127.0.0.1:8000\n"
     ]
    }
   ],
   "source": [
    "import subprocess\n",
    "import time\n",
    "\n",
    "# Uruchamiamy serwer FastAPI w tle\n",
    "process = subprocess.Popen([\"uvicorn\", \"app:app\", \"--host\", \"127.0.0.1\", \"--port\", \"8000\", \"--reload\"], stdout=subprocess.PIPE, stderr=subprocess.PIPE)\n",
    "\n",
    "# Poczekaj chwilę, aby upewnić się, że serwer się uruchomił\n",
    "time.sleep(2)\n",
    "\n",
    "print(\"Serwer FastAPI uruchomiony na http://127.0.0.1:8000\")"
   ]
  },
  {
   "cell_type": "markdown",
   "id": "7b881211-eafb-4ea5-9dc0-4a6d598d417c",
   "metadata": {},
   "source": [
    "### Zadanie 2: Dodanie modelu ML i endpointu predykcji"
   ]
  },
  {
   "cell_type": "code",
   "execution_count": 16,
   "id": "c92bbe0b-0a58-46e2-9b0b-d5c45265cf56",
   "metadata": {},
   "outputs": [
    {
     "ename": "ModuleNotFoundError",
     "evalue": "No module named 'pandas'",
     "output_type": "error",
     "traceback": [
      "\u001b[31m---------------------------------------------------------------------------\u001b[39m",
      "\u001b[31mModuleNotFoundError\u001b[39m                       Traceback (most recent call last)",
      "\u001b[36mCell\u001b[39m\u001b[36m \u001b[39m\u001b[32mIn[16]\u001b[39m\u001b[32m, line 2\u001b[39m\n\u001b[32m      1\u001b[39m \u001b[38;5;66;03m# zaimportowanie danych użytych w modelu\u001b[39;00m\n\u001b[32m----> \u001b[39m\u001b[32m2\u001b[39m \u001b[38;5;28;01mimport\u001b[39;00m\u001b[38;5;250m \u001b[39m\u001b[34;01mpandas\u001b[39;00m\u001b[38;5;250m \u001b[39m\u001b[38;5;28;01mas\u001b[39;00m\u001b[38;5;250m \u001b[39m\u001b[34;01mpd\u001b[39;00m\n\u001b[32m      3\u001b[39m \u001b[38;5;28;01mimport\u001b[39;00m\u001b[38;5;250m \u001b[39m\u001b[34;01mnumpy\u001b[39;00m\u001b[38;5;250m \u001b[39m\u001b[38;5;28;01mas\u001b[39;00m\u001b[38;5;250m \u001b[39m\u001b[34;01mnp\u001b[39;00m\n\u001b[32m      4\u001b[39m \u001b[38;5;28;01mfrom\u001b[39;00m\u001b[38;5;250m \u001b[39m\u001b[34;01msklearn\u001b[39;00m\u001b[34;01m.\u001b[39;00m\u001b[34;01mdatasets\u001b[39;00m\u001b[38;5;250m \u001b[39m\u001b[38;5;28;01mimport\u001b[39;00m load_wine\n",
      "\u001b[31mModuleNotFoundError\u001b[39m: No module named 'pandas'"
     ]
    }
   ],
   "source": [
    "# zaimportowanie danych użytych w modelu\n",
    "import pandas as pd\n",
    "import numpy as np\n",
    "from sklearn.datasets import load_wine\n",
    "\n"
   ]
  },
  {
   "cell_type": "code",
   "execution_count": null,
   "id": "cbdbb24e-a91c-4276-9cb2-13fb80491371",
   "metadata": {},
   "outputs": [],
   "source": []
  }
 ],
 "metadata": {
  "kernelspec": {
   "display_name": "Python 3 (ipykernel)",
   "language": "python",
   "name": "python3"
  },
  "language_info": {
   "codemirror_mode": {
    "name": "ipython",
    "version": 3
   },
   "file_extension": ".py",
   "mimetype": "text/x-python",
   "name": "python",
   "nbconvert_exporter": "python",
   "pygments_lexer": "ipython3",
   "version": "3.11.5"
  }
 },
 "nbformat": 4,
 "nbformat_minor": 5
}
